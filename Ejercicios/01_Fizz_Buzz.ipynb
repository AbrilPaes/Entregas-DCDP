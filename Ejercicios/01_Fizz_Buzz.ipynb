{
  "nbformat": 4,
  "nbformat_minor": 0,
  "metadata": {
    "colab": {
      "provenance": [],
      "authorship_tag": "ABX9TyPaw+O35E4P0kEtwVhb3RHe",
      "include_colab_link": true
    },
    "kernelspec": {
      "name": "python3",
      "display_name": "Python 3"
    },
    "language_info": {
      "name": "python"
    }
  },
  "cells": [
    {
      "cell_type": "markdown",
      "metadata": {
        "id": "view-in-github",
        "colab_type": "text"
      },
      "source": [
        "<a href=\"https://colab.research.google.com/github/AbrilPaes/Entregas-DCDP/blob/main/Ejercicios/01_Fizz_Buzz.ipynb\" target=\"_parent\"><img src=\"https://colab.research.google.com/assets/colab-badge.svg\" alt=\"Open In Colab\"/></a>"
      ]
    },
    {
      "cell_type": "markdown",
      "source": [],
      "metadata": {
        "id": "8BdPPhWMl_C9"
      }
    },
    {
      "cell_type": "markdown",
      "metadata": {
        "id": "cp8XxTfzhYaM"
      },
      "source": [
        "## &#9998; Ejercicio Fizz Buzz\n",
        "\n",
        "Fizz buzz es un juego de palabras grupal para enseñar a los niños la división [[1]](https://en.wikipedia.org/wiki/Fizz_buzz). Los jugadores se turnan para contar de forma incremental, reemplazando cualquier número divisible por tres con la palabra \"Fizz\" y cualquier número divisible por cinco con la palabra \"Buzz\"."
      ]
    },
    {
      "cell_type": "markdown",
      "source": [],
      "metadata": {
        "id": "XWiYHszDmDiN"
      }
    },
    {
      "cell_type": "markdown",
      "metadata": {
        "id": "nOia-4UXhYaM"
      },
      "source": [
        "Un ejemplo del juego sería el siguiente:\n",
        "\n",
        "1, 2, Fizz, 4, Buzz, Fizz, 7, 8, Fizz, Buzz, 11, Fizz, 13, 14, Fizz Buzz, 16, 17, Fizz, 19, Buzz, Fizz, 22, 23, Fizz, Buzz, 26, Fizz, 28, 29, Fizz Buzz, 31, 32, Fizz, 34, Buzz, Fizz, ..."
      ]
    },
    {
      "cell_type": "code",
      "execution_count": null,
      "metadata": {
        "id": "GoB-DkviQ-Ds"
      },
      "outputs": [],
      "source": [
        "# EJERCICIO FIZZ BUZZ CON LISTA\n",
        "# Abril Pacheco Espinosa 22-01-24\n",
        "\n",
        "'''\n",
        "Escribe un programa que solicite dos numeros al usuario: n y m\n",
        "\n",
        "El programa debe garantizar lo siguiente:\n",
        "    1. que n y m son enteros LISTO\n",
        "    2. que n > 0 y m > 0\n",
        "    2. que n < m\n",
        "'''\n",
        "\n",
        "def ejercicio1():\n",
        "\n",
        "  #Creando lista\n",
        "  lista = []\n",
        "\n",
        "  while True:\n",
        "    numero1 = input('Ingrese numero de inicio: ')\n",
        "    numero2 = input('Ingrese numero de fin: ')\n",
        "\n",
        "    try: #Verificamos que no sea decimal o caracteres\n",
        "      numero1 = int(numero1)\n",
        "      numero2 = int(numero2)\n",
        "\n",
        "      if(numero1>0 and numero2>0): #1er if\n",
        "          if(numero1<numero2):#2do if\n",
        "\n",
        "            for i in range(numero1, numero2+1 , 1):\n",
        "\n",
        "              if(i%3 == 0 and i%5 == 0 ):\n",
        "                lista.append(\"Fizz Buzz\")\n",
        "              elif(i%3 == 0):\n",
        "                lista.append(\"Fizz\")\n",
        "              elif (i%5 == 0):\n",
        "                lista.append(\"Buzz\")\n",
        "              else:\n",
        "                lista.append(i)\n",
        "                #i+=1\n",
        "            print(lista)\n",
        "                #len(lista)\n",
        "            break\n",
        "\n",
        "          else:#2do if\n",
        "            print(\"El numero 1 debe ser mayor al numero 2 \")\n",
        "      else:#1er if\n",
        "        print(\"Ingresa numeros mayores a 0 \")\n",
        "\n",
        "    except ValueError:\n",
        "          print (\"Error, escribe un valor númerico entero\")\n"
      ]
    },
    {
      "cell_type": "code",
      "source": [
        "11# EJERCICIO FIZZ BUZZ\n",
        "\n",
        "print('Imprimiendo la salida...\\n')\n",
        "# TU CODIGO AQUI\n",
        "\n",
        "ejercicio1()"
      ],
      "metadata": {
        "colab": {
          "base_uri": "https://localhost:8080/"
        },
        "id": "Kl6RTIo3RDMQ",
        "outputId": "ab5f2fee-7ed3-4f8c-cc92-41f02c8053ae"
      },
      "execution_count": null,
      "outputs": [
        {
          "output_type": "stream",
          "name": "stdout",
          "text": [
            "Imprimiendo la salida...\n",
            "\n",
            "Ingrese numero de inicio: 14\n",
            "Ingrese numero de fin: 19\n",
            "[14, 'Fizz Buzz', 16, 17, 'Fizz', 19]\n"
          ]
        }
      ]
    }
  ]
}